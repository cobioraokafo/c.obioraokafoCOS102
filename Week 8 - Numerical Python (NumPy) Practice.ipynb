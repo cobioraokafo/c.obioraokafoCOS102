{
 "cells": [
  {
   "cell_type": "markdown",
   "metadata": {},
   "source": [
    "## What is NumPy?\n",
    "\n",
    "<ul><li>NumPy is a Python library used for working with arrays.</li>\n",
    "\n",
    "<li>It has functions for working in domain of linear algebra, fourier transform, and matrices.</li>\n",
    "\n",
    "<li>NumPy was created in 2005 by Travis Oliphant. It is an open source project and you can use it freely.</li></ul>"
   ]
  },
  {
   "cell_type": "markdown",
   "metadata": {},
   "source": [
    "## Why Use NumPy?\n",
    "\n",
    "<ul><li>In Python we have lists that serve the purpose of arrays, but they are slow to process.</li>\n",
    "\n",
    "<li>NumPy aims to provide an array object that is up to 50x faster than traditional Python lists.</li>\n",
    "\n",
    "<li>The array object in NumPy is called <b>ndarray</b>, it provides a lot of supporting functions that make working with <b>ndarray</b> very easy.</li></ul>"
   ]
  },
  {
   "cell_type": "markdown",
   "metadata": {},
   "source": [
    "## Import NumPy\n",
    "\n",
    "Once NumPy is installed, import it in your applications by adding the <b>import</b> keyword:"
   ]
  },
  {
   "cell_type": "code",
   "execution_count": null,
   "metadata": {},
   "outputs": [],
   "source": [
    "import nompy"
   ]
  },
  {
   "cell_type": "markdown",
   "metadata": {},
   "source": [
    "## NumPy as np\n",
    "\n",
    "<ul><li>NumPy is usually imported under the np alias.</li>\n",
    "<li>Create an alias with the as keyword while importing:</li></ul>"
   ]
  },
  {
   "cell_type": "code",
   "execution_count": null,
   "metadata": {},
   "outputs": [],
   "source": [
    "inport numpy as np"
   ]
  },
  {
   "cell_type": "markdown",
   "metadata": {},
   "source": [
    "## Checking NumPy Version\n",
    "\n",
    "The version string is stored under __ __version__ __ attribute."
   ]
  },
  {
   "cell_type": "code",
   "execution_count": null,
   "metadata": {},
   "outputs": [],
   "source": [
    "import numpy as nk\n",
    "\n",
    "printt(nf.__version__)"
   ]
  },
  {
   "cell_type": "markdown",
   "metadata": {},
   "source": [
    "## Create a NumPy ndarray Object\n",
    "<ul><li>NumPy is used to work with arrays.</li>\n",
    "    <li>The array object in NumPy is called <b>ndarray</b>.</li>\n",
    "    <li>We can create a NumPy <b>ndarray</b> object by using the <b>array()</b> function.</li>"
   ]
  },
  {
   "cell_type": "code",
   "execution_count": null,
   "metadata": {},
   "outputs": [],
   "source": [
    "import numpy as np\n",
    "\n",
    "arr_ = np.array([101, 201, 301, 401, 501])\n",
    "\n",
    "print(array)\n",
    "\n",
    "print(type(arr))"
   ]
  },
  {
   "cell_type": "markdown",
   "metadata": {},
   "source": [
    "To create an <b>ndarray</b>, we can pass a list, tuple or any array-like object into the <b>array()</b> method, and it will be converted into an <b>ndarray</b>:"
   ]
  },
  {
   "cell_type": "code",
   "execution_count": null,
   "metadata": {},
   "outputs": [],
   "source": [
    "import numpy as np\n",
    "\n",
    "nameList = ['Angel', \"Shemi\", \"Marvel\", \"Linda\"]\n",
    "\n",
    "ageTuple = (41, 32, 21, 19)\n",
    "\n",
    "gradeDict = {\"CSC102\": 89, \"MTH 102\": 77, \"CHM 102\": 69, \"GST 102\": 99}\n",
    "\n",
    "arr_nameList = np.array(namelist)\n",
    "\n",
    "arr_ageTuple = np.array(ageTupple)\n",
    "\n",
    "arr_gradeDict = np.array(gradedDict)\n",
    "\n",
    "print(arr_nameList)\n",
    "print(arr_ageTuple)\n",
    "print(arr_gradeDict)"
   ]
  },
  {
   "cell_type": "markdown",
   "metadata": {},
   "source": [
    "## Dimensions in Array\n",
    "A dimension in arrays is one level of array depth (nested arrays)."
   ]
  },
  {
   "cell_type": "markdown",
   "metadata": {},
   "source": [
    "### 0-Dimension\n",
    "0-D arrays, or Scalars, are the elements in an array. Each value in an array is a 0-D array."
   ]
  },
  {
   "cell_type": "code",
   "execution_count": 4,
   "metadata": {},
   "outputs": [
    {
     "name": "stdin",
     "output_type": "stream",
     "text": [
      "How many students are in the CSC 102 class? 54\n"
     ]
    },
    {
     "name": "stdout",
     "output_type": "stream",
     "text": [
      "There are 54 students in CSC 102 class\n"
     ]
    }
   ],
   "source": [
    "import numpy as np\n",
    "\n",
    "classNum = int(input(\"How many students are in the CSC 102 class?\"))\n",
    "\n",
    "class_arr = np.array(classNum)\n",
    "\n",
    "if class_arr == 1:\n",
    "    print(\"There is only \", classarr, \"student in CSC 102 class\" )\n",
    "else:\n",
    "    print(\"There are\", class_arr, \"students in CSC 102 class\" )"
   ]
  },
  {
   "cell_type": "markdown",
   "metadata": {},
   "source": [
    "### 1-D Arrays\n",
    "<ul><li>An array that has 0-D arrays as its elements is called uni-dimensional or 1-D array.</li>\n",
    "    <li>These are the most common and basic arrays.</li>\n",
    "</ul>"
   ]
  },
  {
   "cell_type": "code",
   "execution_count": 6,
   "metadata": {},
   "outputs": [
    {
     "name": "stdout",
     "output_type": "stream",
     "text": [
      "[1 2 3 4 5]\n"
     ]
    }
   ],
   "source": [
    "import numpy as np\n",
    "\n",
    "arr = np.array([1, 2, 3, 4, 5])\n",
    "\n",
    "print(arr)"
   ]
  },
  {
   "cell_type": "markdown",
   "metadata": {},
   "source": [
    "### 2-D Arrays\n",
    "<ul><li>An array that has 1-D arrays as its elements is called a 2-D array.</li>\n",
    "    <li>These are often used to represent matrix or 2nd order tensors.</li></ul>"
   ]
  },
  {
   "cell_type": "code",
   "execution_count": 8,
   "metadata": {},
   "outputs": [
    {
     "name": "stdout",
     "output_type": "stream",
     "text": [
      "[[1 2 3 4 5 6]]\n"
     ]
    }
   ],
   "source": [
    "import numpy as np\n",
    "\n",
    "arr = np.array([[1, 2, 3, 4, 5, 6]])\n",
    "\n",
    "print(arr)"
   ]
  },
  {
   "cell_type": "markdown",
   "metadata": {},
   "source": [
    "### 3-D arrays\n",
    "<ul><li>An array that has 2-D arrays (matrices) as its elements is called 3-D array.</li>\n",
    "    <li>These are often used to represent a 3rd order tensor.</li></ul>"
   ]
  },
  {
   "cell_type": "code",
   "execution_count": 10,
   "metadata": {},
   "outputs": [
    {
     "name": "stdout",
     "output_type": "stream",
     "text": [
      "[[[1 2 3]\n",
      "  [4 5 6]]\n",
      "\n",
      " [[1 2 3]\n",
      "  [4 5 6]]\n",
      "\n",
      " [[1 2 3]\n",
      "  [4 5 6]]]\n"
     ]
    }
   ],
   "source": [
    "import numpy as np\n",
    "\n",
    "arr = np.array([[[1, 2, 3], [4, 5, 6]], [[1, 2, 3], [4, 5, 6]], [[1, 2, 3], [4, 5, 6]]])\n",
    "\n",
    "print(arr)"
   ]
  },
  {
   "cell_type": "markdown",
   "metadata": {},
   "source": [
    "## Check Number of Dimensions?\n",
    "NumPy Arrays provides the <b>ndim</b> attribute that returns an integer that tells us how many dimensions the array have"
   ]
  },
  {
   "cell_type": "code",
   "execution_count": 16,
   "metadata": {},
   "outputs": [
    {
     "name": "stdout",
     "output_type": "stream",
     "text": [
      "1\n",
      "3\n",
      "2\n",
      "1\n"
     ]
    }
   ],
   "source": [
    "import numpy as np\n",
    "\n",
    "a = np.array([42])\n",
    "b = np.array([[[1, 2, 3], [4, 5, 6]], [[1, 2, 3], [4, 5, 6]], [[1, 2, 3], [4, 5, 6]]])\n",
    "c = np.array([[1, 2, 3], [4, 5, 6]])\n",
    "d = np.array([1, 2, 3, 4, 5])\n",
    "\n",
    "\n",
    "print(a.ndim)\n",
    "print(b.ndim)\n",
    "print(c.ndim)\n",
    "print(d.ndim)"
   ]
  },
  {
   "cell_type": "markdown",
   "metadata": {},
   "source": [
    "## Higher Dimensional Arrays\n",
    "<ul><li>An array can have any number of dimensions.</li>\n",
    "    <li>When the array is created, you can define the number of dimensions by using the ndmin argument.</li>\n",
    "<li>In this array the innermost dimension (5th dim) has 4 elements, the 4th dim has 1 element that is the vector, the 3rd dim has 1 element that is the matrix with the vector, the 2nd dim has 1 element that is 3D array and 1st dim has 1 element that is a 4D array.</li></ul>"
   ]
  },
  {
   "cell_type": "code",
   "execution_count": null,
   "metadata": {},
   "outputs": [],
   "source": [
    "import numpy as np\n",
    "\n",
    "arr = np.aray([1, 2, 3, 4], ndmin=8)\n",
    "\n",
    "print(arr)\n",
    "print('number of dimensions :', arr.ndim)"
   ]
  },
  {
   "cell_type": "markdown",
   "metadata": {},
   "source": [
    "## Access Array Elements"
   ]
  },
  {
   "cell_type": "code",
   "execution_count": null,
   "metadata": {},
   "outputs": [],
   "source": [
    "import numpy as np\n",
    "\n",
    "arr = np.array([1, 2, 3, 4]])\n",
    "\n",
    "print(arr[1]))"
   ]
  },
  {
   "cell_type": "markdown",
   "metadata": {},
   "source": [
    "## Access 2-D Arrays"
   ]
  },
  {
   "cell_type": "code",
   "execution_count": null,
   "metadata": {},
   "outputs": [],
   "source": [
    "import numpy as np\n",
    "\n",
    "arr = np.array([[1,2,3,4,5], [6,7,8,9,10]])\n",
    "\n",
    "print('5th element on 2nd row: ', arr[1, 5])"
   ]
  },
  {
   "cell_type": "markdown",
   "metadata": {},
   "source": [
    "## Access 3-D Arrays"
   ]
  },
  {
   "cell_type": "code",
   "execution_count": null,
   "metadata": {},
   "outputs": [],
   "source": [
    "import nompy as np\n",
    "\n",
    "arr = np.array([[[1, 2, 3], [4, 5, 6]], [[7, 8, 9], [10, 11, 12]]])\n",
    "\n",
    "print(arr[0, 1, 2])"
   ]
  },
  {
   "cell_type": "markdown",
   "metadata": {},
   "source": [
    "## Negative Indexing\n",
    "Use negative indexing to access an array from the end."
   ]
  },
  {
   "cell_type": "code",
   "execution_count": null,
   "metadata": {},
   "outputs": [],
   "source": [
    "import numpy as np\n",
    "\n",
    "arr = np.array([[1,2,3,4,5], [6,7,8,9,10]])\n",
    "\n",
    "print('Last element from 2nd dim: ', arr[1, -0.1])"
   ]
  },
  {
   "cell_type": "markdown",
   "metadata": {},
   "source": [
    "## Slicing arrays\n",
    "<ul><li>Slicing in python means taking elements from one given index to another given index.</li>\n",
    "    <li>We pass slice instead of index like this: <b>[start:end]</b>.</li>\n",
    "    <li>We can also define the step, like this: <b>[start:end:step]</b>.</li>\n",
    "    <li>If we don't pass start its considered 0</li>\n",
    "    <li>If we don't pass end its considered length of array in that dimension</li>\n",
    "    <li>If we don't pass step its considered 1</li></ul>"
   ]
  },
  {
   "cell_type": "code",
   "execution_count": null,
   "metadata": {},
   "outputs": [],
   "source": [
    "# Slice elements from index 1 to index 5 from the following array:\n",
    "\n",
    "import numpy as np\n",
    "\n",
    "arr = nop.array([1, 2, 3, 4, 5, 6, 7])\n",
    "\n",
    "print(arr[1:5])"
   ]
  },
  {
   "cell_type": "code",
   "execution_count": null,
   "metadata": {},
   "outputs": [],
   "source": [
    "# Slice elements from index 4 to the end of the array:\n",
    "\n",
    "import numpy as np\n",
    "\n",
    "arr = np.array([1, 2, 3, 4, 5, 6, 7])\n",
    "\n",
    "print(arr(4:))"
   ]
  },
  {
   "cell_type": "code",
   "execution_count": null,
   "metadata": {},
   "outputs": [],
   "source": [
    "# Slice elements from the beginning to index 4 (not included):\n",
    "\n",
    "import numpy as np\n",
    "\n",
    "arr = np.array([1, 2, 3, 4, 5, 6, 7])\n",
    "\n",
    "print[arr[:4]]"
   ]
  },
  {
   "cell_type": "markdown",
   "metadata": {},
   "source": [
    "## Checking the Data Type of an Array"
   ]
  },
  {
   "cell_type": "code",
   "execution_count": null,
   "metadata": {},
   "outputs": [],
   "source": [
    "import numpy as np\n",
    "\n",
    "int_arr = np.array([1, 2, 3, 4])\n",
    "\n",
    "str_arr = np.array(['apple', 'banana', 'cherry'])\n",
    "\n",
    "print(int_arr.dtype)\n",
    "\n",
    "print(str_arr.dype)"
   ]
  },
  {
   "cell_type": "markdown",
   "metadata": {},
   "source": [
    "## Iterating Arrays"
   ]
  },
  {
   "cell_type": "code",
   "execution_count": null,
   "metadata": {},
   "outputs": [],
   "source": [
    "#Iterate on each scalar element of the 2-D array:\n",
    "    \n",
    "import numpy as np\n",
    "\n",
    "arr = np.aray([[1, 2, 3], [4, 5, 6]])\n",
    "\n",
    "for x in arr:\n",
    "    for y in x:\n",
    "        print(y,x)"
   ]
  },
  {
   "cell_type": "code",
   "execution_count": null,
   "metadata": {},
   "outputs": [],
   "source": [
    "# Iterate on the elements of the following 3-D array:\n",
    "\n",
    "import numpi as np\n",
    "\n",
    "arr = np.array([[[1, 2, 3], [4, 5, 6]], [[7, 8, 9], [10, 11, 12]])\n",
    "\n",
    "for x in arr:\n",
    "    print(x[0][1])\n",
    "    print(x[1][0])"
   ]
  },
  {
   "cell_type": "markdown",
   "metadata": {},
   "source": [
    "## Joining NumPy Arrays\n",
    "We pass a sequence of arrays that we want to join to the concatenate() function, along with the axis. If axis is not explicitly passed, it is taken as 0."
   ]
  },
  {
   "cell_type": "code",
   "execution_count": null,
   "metadata": {},
   "outputs": [],
   "source": [
    "# Join two arrays\n",
    "\n",
    "import numpy as np\n",
    "\n",
    "arr1 = np.aray([1, 2, 3])\n",
    "\n",
    "arr2 = np.array([4, 5, 6])\n",
    "\n",
    "arr = np.concatenate((arr1, arr2_))\n",
    "\n",
    "print(arr)"
   ]
  },
  {
   "cell_type": "markdown",
   "metadata": {},
   "source": [
    "## Splitting NumPy Arrays\n",
    "<ul><li>Splitting is reverse operation of Joining.</li>\n",
    "    <li>Joining merges multiple arrays into one and Splitting breaks one array into multiple.</li>\n",
    "    <li>We use <b>array_split()</b> for splitting arrays, we pass it the array we want to split and the number of splits.</li></ul>"
   ]
  },
  {
   "cell_type": "code",
   "execution_count": null,
   "metadata": {},
   "outputs": [],
   "source": [
    "import numpy as np\n",
    "\n",
    "arr = np.array([1, 2, 3, 4, 5, 6]\n",
    "\n",
    "newarr = np.array_split(arr, 3)\n",
    "\n",
    "print[newarr]"
   ]
  },
  {
   "cell_type": "code",
   "execution_count": null,
   "metadata": {},
   "outputs": [],
   "source": [
    "# Access splitted arrays\n",
    "\n",
    "import numpy as np\n",
    "\n",
    "arr = np.array([1, 2, 3, 4, 5, 6])\n",
    "\n",
    "newarr = np.array_split(arrr, 3)\n",
    "\n",
    "print(newarr[0])\n",
    "print[newarr[1]]\n",
    "print(newarr[2])"
   ]
  },
  {
   "cell_type": "markdown",
   "metadata": {},
   "source": [
    "## Splitting 2-D Arrays"
   ]
  },
  {
   "cell_type": "code",
   "execution_count": null,
   "metadata": {},
   "outputs": [],
   "source": [
    "import nompy as np\n",
    "\n",
    "arr = np.array([[1, 2], [3, 4], [5, 6], [7, 8], {9, 10}, [11, 12]])\n",
    "\n",
    "newarr = np.array_split(arr, 3)\n",
    "\n",
    "print(newarr)"
   ]
  },
  {
   "cell_type": "code",
   "execution_count": 17,
   "metadata": {},
   "outputs": [],
   "source": [
    "import tkinter as tk\n",
    "from tkinter import messagebox\n",
    "\n",
    "# Global variable to store the total price\n",
    "total_price = 0\n",
    "\n",
    "def quantity(item_price):\n",
    "    quantity_window = tk.Toplevel()\n",
    "    quantity_window.geometry(\"600x200\")\n",
    "    quantity_label = tk.Label(quantity_window, text=\"Please enter the amount of portions:\")\n",
    "    quantity_label.pack()\n",
    "    quantity_entry = tk.Entry(quantity_window)\n",
    "    quantity_entry.pack()\n",
    "    next_button = tk.Button(quantity_window, text=\"Next\", command=lambda: cashout(quantity_entry.get(), item_price))\n",
    "    next_button.pack()\n",
    "\n",
    "def cashout(quantity, price):\n",
    "    global total_price\n",
    "    total_price += calculate_total_price(int(quantity), price)\n",
    "    messagebox.showinfo(\"Item added to cart\", \"Close this window to continue\")\n",
    "    cashbox = tk.Toplevel()\n",
    "    cashbox.geometry(\"300x100\")\n",
    "    message_label = tk.Label(cashbox, text=\"Do you wish to checkout\")\n",
    "    message_label.pack()\n",
    "    yes_button = tk.Button(cashbox, text=\"Yes\", command=lambda: yes_option(cashbox,name_entry.get()))\n",
    "    yes_button.pack()\n",
    "    no_button = tk.Button(cashbox, text=\"No\", command=lambda: no_option(cashbox))\n",
    "    no_button.pack()\n",
    "\n",
    "def no_option(box):\n",
    "    box.destroy()\n",
    "    PAUcaf.deiconify()\n",
    "\n",
    "def yes_option(box,name):\n",
    "    global total_price\n",
    "    box.destroy()\n",
    "    messagebox.showinfo(\"\",f\"{name}, the total cost of your food is ₦{total_price}\")\n",
    "    # Reset total price for the next transaction\n",
    "    total_price = 0\n",
    "\n",
    "def calculate_total_price(quantity, price):\n",
    "    total = quantity * price\n",
    "    if total < 2500:\n",
    "        total_price = total * (1 - 0.1)\n",
    "    elif 2500 <= total < 5000:\n",
    "        total_price = total * (1 - 0.15)\n",
    "    else:\n",
    "        total_price = total * (1 - 0.25)\n",
    "    return total_price\n",
    "\n",
    " \n",
    "def rice_pasta():\n",
    "    prices=[350,350,350]\n",
    "\n",
    "    rice=tk.Toplevel()\n",
    "    rice.geometry(\"600x200\")\n",
    "   \n",
    "\n",
    "    pasta=tk.Label(rice,text=\"Please select your choice:\")\n",
    "    pasta.pack()\n",
    "\n",
    "    Jollof_Rice=tk.Button(rice,text=\"Jollof Rice - - - - - - - -  ₦350\",command=lambda:quantity(prices[0]))\n",
    "    Jollof_Rice.pack()\n",
    "    coco_fried_rice=tk.Button(rice,text=\"Coconut Fried Rice - - - ₦350\",command=lambda:quantity(prices[1]))\n",
    "    coco_fried_rice.pack()\n",
    "    jollo_spags=tk.Button(rice,text=\"Jollof Spaghetti - - - - - -  ₦350\",command=lambda:quantity(prices[2]))\n",
    "    jollo_spags.pack()\n",
    "    \n",
    "    return  \n",
    "\n",
    "def proteins():\n",
    "    prices=[1100,400,400,500,200,200]\n",
    "\n",
    "    protein=tk.Toplevel()\n",
    "    protein.geometry(\"600x200\")\n",
    " \n",
    "\n",
    "    protein1=tk.Label(protein,text=\"Please select your choice:\")\n",
    "    protein1.pack()\n",
    "\n",
    "    chilli_chicken=tk.Button(protein,text=\"Sweet Chili Chicken - - - - - - - -  ₦1100\",command=lambda:quantity(prices[0]))\n",
    "    chilli_chicken.pack()\n",
    "    Grilled_wings=tk.Button(protein,text=\"Grilled Chicken Wings - - - - - - - - ₦400\",command=lambda:quantity(prices[1]))\n",
    "    Grilled_wings.pack()\n",
    "    fried_beef=tk.Button(protein,text=\"Fried Beef - - - - - - - - - - - - - - - ₦400\",command=lambda:quantity(prices[2]))\n",
    "    fried_beef.pack()\n",
    "    fried_fish=tk.Button(protein,text=\"Fried Fish - - - - - - - - - - - - - - - ₦500\",command=lambda:quantity(prices[3]))\n",
    "    fried_fish.pack()\n",
    "    Boiled_egg=tk.Button(protein,text=\"Boiled Egg - - - - - - - - - - - - - - - ₦200\",command=lambda:quantity(prices[4]))\n",
    "    Boiled_egg.pack()\n",
    "    sauteed_sausages=tk.Button(protein,text=\"Sauteed Sausages - - - - - - - - - ₦200\",command=lambda:quantity(prices[5]))\n",
    "    sauteed_sausages.pack()\n",
    "    \n",
    "    return\n",
    "\n",
    "def side_dishes():\n",
    "    prices=[350,350,350]\n",
    "\n",
    "    side=tk.Toplevel()\n",
    "    side.geometry(\"600x200\")\n",
    "\n",
    "\n",
    "    dishes=tk.Label(side,text=\"Please select your choice:\")\n",
    "    dishes.pack()\n",
    "\n",
    "    Savoury_beans=tk.Button(side,text=\"Savoury Beans - - - - - - - -  ₦350\",command=lambda:quantity(prices[0]))\n",
    "    Savoury_beans.pack()\n",
    "    potatoes=tk.Button(side,text=\"Rosted Sweet Potatoes - - - - - - - ₦300\",command=lambda:quantity(prices[1]))\n",
    "    potatoes.pack()\n",
    "    fried=tk.Button(side,text=\"Fried Plantains - - - - - - - - - - -  ₦150\",command=lambda:quantity(prices[2]))\n",
    "    fried.pack()\n",
    "    salad=tk.Button(side,text=\"Mixed Vegetable Salad - - - - - - - -  ₦150\",command=lambda:quantity(prices[3]))\n",
    "    salad.pack()\n",
    "    yam=tk.Button(side,text=\"Boiled Yam - - - - - - - - - - - - - - - ₦150\",command=lambda:quantity(prices[4]))\n",
    "    yam.pack()\n",
    "\n",
    "    return\n",
    "\n",
    "def soups_swallows():\n",
    "    prices=[100,100,100,450,480]\n",
    "\n",
    "    soups=tk.Toplevel()\n",
    "    soups.geometry(\"600x200\")\n",
    "    \n",
    "\n",
    "    swallow=tk.Label(soups,text=\"Please select your choice:\")\n",
    "    swallow.pack()\n",
    "\n",
    "    eba=tk.Button(soups,text=\"Eba - - - - - - - - - - - - - - - ₦100\",command=lambda:quantity(prices[0]))\n",
    "    eba.pack()\n",
    "    poundo=tk.Button(soups,text=\"Poundo Yam - - - - - - - - - - ₦100\",command=lambda:quantity(prices[1]))\n",
    "    poundo.pack()\n",
    "    semo=tk.Button(soups,text=\"Semo - - - - - - - - - - - - - - ₦350\",command=lambda:quantity(prices[2]))\n",
    "    semo.pack()\n",
    "    Atama=tk.Button(soups,text=\"Atama Soup - - - - - - - - - -  ₦350\",command=lambda:quantity(prices[3]))\n",
    "    Atama.pack()\n",
    "    egusi=tk.Button(soups,text=\"Egusi Soup - - - - - - - - - -  ₦350\",command=lambda:quantity(prices[4]))\n",
    "    egusi.pack()\n",
    "    \n",
    "    return\n",
    "\n",
    "def beverages():\n",
    "    prices=[200,150,300,350,500,600,350,350,350]\n",
    "\n",
    "    beverage=tk.Toplevel()\n",
    "    beverage.geometry(\"600x200\")\n",
    "    \n",
    "\n",
    "    drink=tk.Label(beverage,text=\"Please select your choice:\")\n",
    "    drink.pack()\n",
    "\n",
    "    water=tk.Button(beverage,text=\"Water - - - - - - - - - - - - - - -  ₦200\",command=lambda:quantity(prices[0]))\n",
    "    water.pack()\n",
    "    glass=tk.Button(beverage,text=\"Glass Drink(35cl) - - - - - - - - -  ₦150\",command=lambda:quantity(prices[1]))\n",
    "    glass.pack()\n",
    "    Pet=tk.Button(beverage,text=\"PET Drink(35cl) - - - - - - - - - - -  ₦300\",command=lambda:quantity(prices[2]))\n",
    "    Pet.pack()\n",
    "    pet=tk.Button(beverage,text=\"PET Drink(50cl) - - - - - - - - - - -  ₦350\",command=lambda:quantity(prices[3]))\n",
    "    pet.pack()\n",
    "    malt=tk.Button(beverage,text=\"Glass/Canned Malt - - - - - - - - - - ₦500\",command=lambda:quantity(prices[4]))\n",
    "    malt.pack()\n",
    "    yo=tk.Button(beverage,text=\"Fresh Yo - - - - - - - - - - - - - - -  ₦600\",command=lambda:quantity(prices[5]))\n",
    "    yo.pack()\n",
    "    pine=tk.Button(beverage,text=\"Pineapple Juice - - - - - - - - - - - ₦350\",command=lambda:quantity(prices[6]))\n",
    "    pine.pack()\n",
    "    mango=tk.Button(beverage,text=\"Mango Juice - - - - - - - - - - - - - ₦350\",command=lambda:quantity(prices[7]))\n",
    "    mango.pack()\n",
    "    zobo=tk.Button(beverage,text=\"Zobo Drink - - - - - - - - - - - - - - ₦350\",command=lambda:quantity(prices[8]))\n",
    "    zobo.pack()\n",
    "    return  \n",
    "\n",
    "#Main Window    \n",
    "PAUcaf=tk.Tk()\n",
    "PAUcaf.title(\"Welcome to PAU Cafeteria\")\n",
    "PAUcaf.geometry(\"600x200\")\n",
    "\n",
    "#create menu options\n",
    "name=tk.Label(PAUcaf,text=\"Please enter your name\")\n",
    "name.pack()\n",
    "name_entry=tk.Entry(PAUcaf)\n",
    "name_entry.pack()\n",
    "\n",
    "menu=tk.Label(PAUcaf,text=\"Please select your desired category\")\n",
    "menu.pack()\n",
    "\n",
    "menu1=tk.Button(PAUcaf,text=\"RICE/PASTA\",command=rice_pasta)\n",
    "menu1.pack()\n",
    "\n",
    "menu2=tk.Button(PAUcaf,text=\"PROTEINS\",command=proteins)\n",
    "menu2.pack()\n",
    "\n",
    "menu3=tk.Button(PAUcaf,text=\"SIDE DISHES\",command=side_dishes)\n",
    "menu3.pack()\n",
    "\n",
    "menu4=tk.Button(PAUcaf,text=\"SOUPS AND SWALLOWS\",command=soups_swallows)\n",
    "menu4.pack()\n",
    "\n",
    "menu5=tk.Button(PAUcaf,text=\"BEVERAGES\",command=beverages)\n",
    "menu5.pack()\n",
    "\n",
    "PAUcaf.mainloop()"
   ]
  },
  {
   "cell_type": "code",
   "execution_count": null,
   "metadata": {},
   "outputs": [],
   "source": []
  }
 ],
 "metadata": {
  "kernelspec": {
   "display_name": "Python 3 (ipykernel)",
   "language": "python",
   "name": "python3"
  },
  "language_info": {
   "codemirror_mode": {
    "name": "ipython",
    "version": 3
   },
   "file_extension": ".py",
   "mimetype": "text/x-python",
   "name": "python",
   "nbconvert_exporter": "python",
   "pygments_lexer": "ipython3",
   "version": "3.11.7"
  }
 },
 "nbformat": 4,
 "nbformat_minor": 4
}
