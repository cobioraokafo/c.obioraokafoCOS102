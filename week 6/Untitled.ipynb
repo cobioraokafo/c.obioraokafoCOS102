{
 "cells": [
  {
   "cell_type": "code",
   "execution_count": 2,
   "id": "b1bac779-aa29-444e-b1ae-e4bedd3067f0",
   "metadata": {},
   "outputs": [
    {
     "ename": "AttributeError",
     "evalue": "module 'tkinter' has no attribute 'label'",
     "output_type": "error",
     "traceback": [
      "\u001b[1;31m---------------------------------------------------------------------------\u001b[0m",
      "\u001b[1;31mAttributeError\u001b[0m                            Traceback (most recent call last)",
      "Cell \u001b[1;32mIn[2], line 8\u001b[0m\n\u001b[0;32m      5\u001b[0m root\u001b[38;5;241m.\u001b[39mtitle(\u001b[38;5;124m\"\u001b[39m\u001b[38;5;124mSimi Services\u001b[39m\u001b[38;5;124m\"\u001b[39m)\n\u001b[0;32m      6\u001b[0m root\u001b[38;5;241m.\u001b[39mgeometry(\u001b[38;5;124m\"\u001b[39m\u001b[38;5;124m700x400\u001b[39m\u001b[38;5;124m\"\u001b[39m)\n\u001b[1;32m----> 8\u001b[0m weight_label \u001b[38;5;241m=\u001b[39m tk\u001b[38;5;241m.\u001b[39mlabel(root, text\u001b[38;5;241m=\u001b[39m\u001b[38;5;124m\"\u001b[39m\u001b[38;5;124mWeight(kg):\u001b[39m\u001b[38;5;124m\"\u001b[39m)\n\u001b[0;32m      9\u001b[0m weight_label\u001b[38;5;241m.\u001b[39mpack()\n\u001b[0;32m     10\u001b[0m weight_entry \u001b[38;5;241m=\u001b[39m tk\u001b[38;5;241m.\u001b[39mEntry(root)\n",
      "\u001b[1;31mAttributeError\u001b[0m: module 'tkinter' has no attribute 'label'"
     ]
    }
   ],
   "source": [
    "import tkinter as tk\n",
    "from tkinter import messagebox\n",
    "\n",
    "root = tk.Tk()\n",
    "root.title(\"Simi Services\")\n",
    "root.geometry(\"700x400\")\n",
    "\n",
    "weight_label = tk.label(root, text=\"Weight(kg):\")\n",
    "weight_label.pack()\n",
    "weight_entry = tk.Entry(root)\n",
    "weight_entry.pack()\n",
    "\n",
    "def button_click():\n",
    "    weight - int(weight_entry.get())\n",
    "    location = location_entry.get().upper()\n",
    "\n",
    "    if weight >= 10 and location ==\"IBEJU-LEKKI\":\n",
    "        messagebox.showinfo(\"Price info\", \"Your cost is N5,000\")\n",
    "    elif weight < 10 and location == \"IBEJU LEKKI\":\n",
    "        messagebox.showinfo(\"Price info\", \"Your cost is N3,500\")\n",
    "    elif weight >= 10 and location == \"EPE\":\n",
    "        messagebox.showinfo(\"Price info\", \"Your cost is N5,000\")\n",
    "    else:\n",
    "        messagebox.showerror(\"Error\", \"Wrong info\")\n",
    "\n",
    "check_button = tk.BUtton(root, text=\"Check\", command=button_click)\n",
    "check_button.pack()\n",
    "\n",
    "\n",
    "\n",
    "root.mainloop()\n",
    "\n"
   ]
  },
  {
   "cell_type": "code",
   "execution_count": null,
   "id": "e6a77b55-b59c-4060-8418-9e7c77cc5b0b",
   "metadata": {},
   "outputs": [],
   "source": []
  }
 ],
 "metadata": {
  "kernelspec": {
   "display_name": "Python 3 (ipykernel)",
   "language": "python",
   "name": "python3"
  },
  "language_info": {
   "codemirror_mode": {
    "name": "ipython",
    "version": 3
   },
   "file_extension": ".py",
   "mimetype": "text/x-python",
   "name": "python",
   "nbconvert_exporter": "python",
   "pygments_lexer": "ipython3",
   "version": "3.11.7"
  }
 },
 "nbformat": 4,
 "nbformat_minor": 5
}
