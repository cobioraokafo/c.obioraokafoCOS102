{
 "cells": [
  {
   "cell_type": "code",
   "execution_count": 1,
   "id": "80545211-8342-434b-b289-b9214359fe8f",
   "metadata": {},
   "outputs": [
    {
     "name": "stdin",
     "output_type": "stream",
     "text": [
      "Enter the name of city 1: lagos\n",
      "Enter the name of city 2: abuja\n"
     ]
    },
    {
     "name": "stdout",
     "output_type": "stream",
     "text": [
      "The name of city 1 after swapping is abuja\n",
      "The name of city 2 after swapping is lagos\n"
     ]
    }
   ],
   "source": [
    "# Python program to swap two cities\n",
    "\n",
    "# To take inputs from the user\n",
    "city_1 = input('Enter the name of city 1:')\n",
    "city_2 = input('Enter the name of city 2:')\n",
    "\n",
    "# create a temporary variable and swap the cities\n",
    "temp = city_1\n",
    "city_1 = city_2\n",
    "city_2 = temp\n",
    "\n",
    "print(f\"The name of city 1 after swapping is {city_1}\")\n",
    "print(f\"The name of city 2 after swapping is {city_2}\")"
   ]
  },
  {
   "cell_type": "code",
   "execution_count": 2,
   "id": "6a7a4d29-8ca4-4e1f-aea7-0f5b94fe3a77",
   "metadata": {},
   "outputs": [
    {
     "name": "stdin",
     "output_type": "stream",
     "text": [
      "Enter a number:  6\n"
     ]
    },
    {
     "name": "stdout",
     "output_type": "stream",
     "text": [
      "Positive number\n"
     ]
    }
   ],
   "source": [
    "#Program to check if a number is Positive, Negative or 0\n",
    "\n",
    "num = float(input(\"Enter a number: \"))\n",
    "if num > 0:\n",
    "    print(\"Positive number\")\n",
    "elif num == 0:\n",
    "    print(\"Zero\")\n",
    "else:\n",
    "    print(\"Negative number\")\n",
    "    "
   ]
  },
  {
   "cell_type": "code",
   "execution_count": 3,
   "id": "23a97619-e78e-4458-9ec1-1da5c10fc1cf",
   "metadata": {},
   "outputs": [
    {
     "name": "stdout",
     "output_type": "stream",
     "text": [
      "Welcome to the COUPE DE ESCRIVA 2023: FOORBALL PICKS \n",
      "\n",
      "Madiba:  Chukwubuikem Obumneme Obiora-Okafo\n",
      "Blue Jays:  Christopher Uweh\n",
      "Cirok:  Alexander\n",
      "TSG walkers:  Ikechukwu\n",
      "\n",
      "\n",
      "Madiba:  Chukwubuikem Obumneme Obiora-Okafo\n",
      "Blue Jays:  Oladimeji Abaniwonnda/Jefferey Awagu \n",
      "Cirok:  Timileyin Pearse/Izuako Jeremy\n",
      "TSG walkers:  Ayomide Ojituku\n"
     ]
    }
   ],
   "source": [
    "# COUPE DE ESCRIVA 2023: FOOTBALL PICKS\n",
    "\n",
    "print(\"Welcome to the COUPE DE ESCRIVA 2023: FOORBALL PICKS \\n\")\n",
    "\n",
    "captain = {'Madiba: ': 'Chukwubuikem Obumneme Obiora-Okafo', 'Blue Jays: ': 'Christopher Uweh', 'Cirok: ': 'Alexander', 'TSG walkers: ': 'Ikechukwu'}\n",
    "\n",
    "goalkeepers = {'Madiba: ': 'Chukwubuikem Obumneme Obiora-Okafo',\n",
    "               'Blue Jays: ': 'Oladimeji Abaniwonnda/Jefferey Awagu ',\n",
    "               'Cirok: ': 'Timileyin Pearse/Izuako Jeremy',\n",
    "               'TSG walkers: ': 'Ayomide Ojituku'}\n",
    "\n",
    "for pick in captain:\n",
    "    print(pick, captain[pick])\n",
    "\n",
    "print(\"\\n\")\n",
    "\n",
    "for pick in goalkeepers:\n",
    "    print(pick, goalkeepers[pick])\n",
    "    "
   ]
  },
  {
   "cell_type": "code",
   "execution_count": null,
   "id": "2506f614-1817-4b29-aa9a-dd5455679d9c",
   "metadata": {},
   "outputs": [],
   "source": [
    "#Python program to find the Annual tax revenue of Izifin Technology\n",
    "\n",
    "experience = int(input(\"Years of experience:\")\n",
    "                 int(input(\"age:\")"
   ]
  }
 ],
 "metadata": {
  "kernelspec": {
   "display_name": "Python 3 (ipykernel)",
   "language": "python",
   "name": "python3"
  },
  "language_info": {
   "codemirror_mode": {
    "name": "ipython",
    "version": 3
   },
   "file_extension": ".py",
   "mimetype": "text/x-python",
   "name": "python",
   "nbconvert_exporter": "python",
   "pygments_lexer": "ipython3",
   "version": "3.11.7"
  }
 },
 "nbformat": 4,
 "nbformat_minor": 5
}
